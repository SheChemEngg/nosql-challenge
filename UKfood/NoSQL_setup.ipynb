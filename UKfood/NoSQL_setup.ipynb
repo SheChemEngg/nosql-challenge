{
 "cells": [
  {
   "cell_type": "markdown",
   "id": "9a57c4c6",
   "metadata": {},
   "source": [
    "# Eat Safe, Love"
   ]
  },
  {
   "cell_type": "markdown",
   "id": "064ef857",
   "metadata": {},
   "source": [
    "## Part 1: Database and Jupyter Notebook Set Up"
   ]
  },
  {
   "cell_type": "markdown",
   "id": "664e3c1f",
   "metadata": {},
   "source": [
    "Import the data provided in the `establishments.json` file from your Terminal. Name the database `uk_food` and the collection `establishments`.\n",
    "\n",
    "Within this markdown cell, copy the line of text you used to import the data from your Terminal. This way, future analysts will be able to repeat your process.\n",
    "\n",
    "e.g.: Import the dataset with `YOUR IMPORT TEXT HERE`\n",
    "\n",
    "\n",
    "#### >mongoimport --type json -d uk_food -c establishments --drop --jsonArray establishments.json"
   ]
  },
  {
   "cell_type": "code",
   "execution_count": 173,
   "id": "ab08f277-6265-4d96-a9a1-208aa10a186f",
   "metadata": {},
   "outputs": [],
   "source": [
    "# Import dependencies\n",
    "from pymongo import MongoClient\n",
    "import json\n",
    "import requests \n",
    "from pprint import pprint"
   ]
  },
  {
   "cell_type": "code",
   "execution_count": 174,
   "id": "59390c4a",
   "metadata": {},
   "outputs": [],
   "source": [
    "# Create an instance of MongoClient\n",
    "mongo = MongoClient(port=27017)"
   ]
  },
  {
   "cell_type": "code",
   "execution_count": 175,
   "id": "7f9ececa",
   "metadata": {},
   "outputs": [
    {
     "name": "stdout",
     "output_type": "stream",
     "text": [
      "Database ['uk_food'] has been created.\n"
     ]
    }
   ],
   "source": [
    "# confirm that our new database was created\n",
    "database_names = mongo.list_database_names()\n",
    "db_nm = [db_name for db_name in database_names if db_name == 'uk_food']\n",
    "print(f\"Database {db_nm} has been created.\")"
   ]
  },
  {
   "cell_type": "code",
   "execution_count": 176,
   "id": "71e373c1",
   "metadata": {},
   "outputs": [],
   "source": [
    "# assign the uk_food database to a variable name\n",
    "db = mongo['uk_food']"
   ]
  },
  {
   "cell_type": "code",
   "execution_count": 177,
   "id": "ef1b89ed",
   "metadata": {},
   "outputs": [
    {
     "name": "stdout",
     "output_type": "stream",
     "text": [
      "['establishments']\n"
     ]
    }
   ],
   "source": [
    "# review the collections in our new database\n",
    "print(db.list_collection_names())"
   ]
  },
  {
   "cell_type": "code",
   "execution_count": 178,
   "id": "6a0d92df",
   "metadata": {},
   "outputs": [
    {
     "name": "stdout",
     "output_type": "stream",
     "text": [
      "{'AddressLine1': 'The Bay',\n",
      " 'AddressLine2': 'St Margarets Bay',\n",
      " 'AddressLine3': 'Kent',\n",
      " 'AddressLine4': '',\n",
      " 'BusinessName': 'The Coastguard Inn',\n",
      " 'BusinessType': 'Pub/bar/nightclub',\n",
      " 'BusinessTypeID': 7843,\n",
      " 'ChangesByServerID': 0,\n",
      " 'Distance': 4587.347174863443,\n",
      " 'FHRSID': 1034540,\n",
      " 'LocalAuthorityBusinessID': 'PI/000078691',\n",
      " 'LocalAuthorityCode': '182',\n",
      " 'LocalAuthorityEmailAddress': 'publicprotection@dover.gov.uk',\n",
      " 'LocalAuthorityName': 'Dover',\n",
      " 'LocalAuthorityWebSite': 'http://www.dover.gov.uk/',\n",
      " 'NewRatingPending': False,\n",
      " 'Phone': '',\n",
      " 'PostCode': 'CT15 6DY',\n",
      " 'RatingDate': '2022-08-17T00:00:00',\n",
      " 'RatingKey': 'fhrs_5_en-gb',\n",
      " 'RatingValue': '5',\n",
      " 'RightToReply': '',\n",
      " 'SchemeType': 'FHRS',\n",
      " '_id': ObjectId('64f3e27c2e66331e7dbfe3cc'),\n",
      " 'geocode': {'latitude': '51.152225', 'longitude': '1.387974'},\n",
      " 'links': [{'href': 'https://api.ratings.food.gov.uk/establishments/1034540',\n",
      "            'rel': 'self'}],\n",
      " 'meta': {'dataSource': None,\n",
      "          'extractDate': '0001-01-01T00:00:00',\n",
      "          'itemCount': 0,\n",
      "          'pageNumber': 0,\n",
      "          'pageSize': 0,\n",
      "          'returncode': None,\n",
      "          'totalCount': 0,\n",
      "          'totalPages': 0},\n",
      " 'scores': {'ConfidenceInManagement': 0, 'Hygiene': 0, 'Structural': 5}}\n"
     ]
    }
   ],
   "source": [
    "# review a document in the establishments collection\n",
    "pprint(db.establishments.find_one())"
   ]
  },
  {
   "cell_type": "code",
   "execution_count": 179,
   "id": "11c9f11b",
   "metadata": {},
   "outputs": [],
   "source": [
    "# assign the collection to a variable\n",
    "establishments = db['establishments']"
   ]
  },
  {
   "cell_type": "markdown",
   "id": "d5671434",
   "metadata": {},
   "source": [
    "## Part 2: Update the Database"
   ]
  },
  {
   "cell_type": "markdown",
   "id": "314bd884",
   "metadata": {},
   "source": [
    "1. An exciting new halal restaurant just opened in Greenwich, but hasn't been rated yet. The magazine has asked you to include it in your analysis. Add the following restaurant \"Penang Flavours\" to the database."
   ]
  },
  {
   "cell_type": "code",
   "execution_count": 180,
   "id": "c2da7648",
   "metadata": {},
   "outputs": [
    {
     "name": "stdout",
     "output_type": "stream",
     "text": [
      "New restaurant inserted, with ID: 64f3e29aebbdb9cd87d2fd9c\n"
     ]
    }
   ],
   "source": [
    "# New restaurant data\n",
    "\n",
    "new_restaurant = {\n",
    "    \"BusinessName\":\"Penang Flavours\",\n",
    "    \"BusinessType\":\"Restaurant/Cafe/Canteen\",\n",
    "    \"BusinessTypeID\":\"\",\n",
    "    \"AddressLine1\":\"Penang Flavours\",\n",
    "    \"AddressLine2\":\"73 Greenwich High Rd\",\n",
    "    \"AddressLine3\":\"London\",\n",
    "    \"AddressLine4\":\"\",\n",
    "    \"PostCode\":\"SE10 8JL\",\n",
    "    \"Phone\":\"\",\n",
    "    \"RatingValue\": 'Awaiting Inspection',\n",
    "    \"LocalAuthorityCode\":\"\",\n",
    "    \"LocalAuthorityName\":\"Greenwich\",\n",
    "    \"LocalAuthorityWebSite\": \"www.royalgreenwich.gov.uk\",\n",
    "    \"LocalAuthorityEmailAddress\": \"Food.Concerns@royalgreenwich.gov.uk\",\n",
    "    \"scores\":{\n",
    "        \"Hygiene\":\"\",\n",
    "        \"Structural\":\"\",\n",
    "        \"ConfidenceInManagement\":\"\"\n",
    "            },\n",
    "    \"SchemeType\":\"FHRS\",\n",
    "    \"geocode\":{\n",
    "        \"longitude\":\"0.00986400\",\n",
    "        \"latitude\":\"51.49342000\"\n",
    "    }\n",
    "}\n",
    "# Insert the new restaurant into the collection\n",
    "insert_new_restaurant = establishments.insert_one(new_restaurant)\n",
    "\n",
    "# Check that the new restaurant was inserted\n",
    "if insert_new_restaurant.inserted_id:\n",
    "    print(\"New restaurant inserted, with ID:\", insert_new_restaurant.inserted_id)"
   ]
  },
  {
   "cell_type": "code",
   "execution_count": 181,
   "id": "63bb10f9",
   "metadata": {},
   "outputs": [
    {
     "name": "stdout",
     "output_type": "stream",
     "text": [
      "{'AddressLine1': 'Penang Flavours',\n",
      " 'AddressLine2': '73 Greenwich High Rd',\n",
      " 'AddressLine3': 'London',\n",
      " 'AddressLine4': '',\n",
      " 'BusinessName': 'Penang Flavours',\n",
      " 'BusinessType': 'Restaurant/Cafe/Canteen',\n",
      " 'BusinessTypeID': '',\n",
      " 'LocalAuthorityCode': '',\n",
      " 'LocalAuthorityEmailAddress': 'Food.Concerns@royalgreenwich.gov.uk',\n",
      " 'LocalAuthorityName': 'Greenwich',\n",
      " 'LocalAuthorityWebSite': 'www.royalgreenwich.gov.uk',\n",
      " 'Phone': '',\n",
      " 'PostCode': 'SE10 8JL',\n",
      " 'RatingValue': 'Awaiting Inspection',\n",
      " 'SchemeType': 'FHRS',\n",
      " '_id': ObjectId('64f3e29aebbdb9cd87d2fd9c'),\n",
      " 'geocode': {'latitude': '51.49342000', 'longitude': '0.00986400'},\n",
      " 'scores': {'ConfidenceInManagement': '', 'Hygiene': '', 'Structural': ''}}\n"
     ]
    }
   ],
   "source": [
    "# Check that the new restaurant was inserted\n",
    "new_id = insert_new_restaurant.inserted_id\n",
    "\n",
    "pprint(establishments.find_one({\"_id\": new_id}))"
   ]
  },
  {
   "cell_type": "markdown",
   "id": "0ef4395a",
   "metadata": {},
   "source": [
    "2. Find the BusinessTypeID for \"Restaurant/Cafe/Canteen\" and return only the `BusinessTypeID` and `BusinessType` fields."
   ]
  },
  {
   "cell_type": "code",
   "execution_count": 182,
   "id": "93c63829",
   "metadata": {},
   "outputs": [
    {
     "name": "stdout",
     "output_type": "stream",
     "text": [
      "{'BusinessType': 'Restaurant/Cafe/Canteen', 'BusinessTypeID': 1}\n",
      "\n",
      "{'BusinessType': 'Restaurant/Cafe/Canteen', 'BusinessTypeID': 1}\n",
      "\n",
      "{'BusinessType': 'Restaurant/Cafe/Canteen', 'BusinessTypeID': 1}\n",
      "\n",
      "{'BusinessType': 'Restaurant/Cafe/Canteen', 'BusinessTypeID': 1}\n",
      "\n",
      "{'BusinessType': 'Restaurant/Cafe/Canteen', 'BusinessTypeID': 1}\n",
      "\n",
      "{'BusinessType': 'Restaurant/Cafe/Canteen', 'BusinessTypeID': 1}\n",
      "\n",
      "{'BusinessType': 'Restaurant/Cafe/Canteen', 'BusinessTypeID': 1}\n",
      "\n",
      "{'BusinessType': 'Restaurant/Cafe/Canteen', 'BusinessTypeID': 1}\n",
      "\n",
      "{'BusinessType': 'Restaurant/Cafe/Canteen', 'BusinessTypeID': 1}\n",
      "\n",
      "{'BusinessType': 'Restaurant/Cafe/Canteen', 'BusinessTypeID': 1}\n"
     ]
    }
   ],
   "source": [
    "# Find the BusinessTypeID for \"Restaurant/Cafe/Canteen\" and return only the BusinessTypeID and BusinessType fields\n",
    "\n",
    "query = {'BusinessType': 'Restaurant/Cafe/Canteen'}   # Match query\n",
    "fields = {'BusinessType': 1, 'BusinessTypeID': 1, \"_id\": 0}   # Projection query to include only 2 fields\n",
    "sample = {\"$sample\": {\"size\": 10}}   #  Random sampling query\n",
    "\n",
    "pipeline = [{'$match': query},\n",
    "            {'$project': fields},\n",
    "            {'$sample': {'size': 10}}\n",
    "           ]\n",
    "# Capture the results to a variable\n",
    "results = list(establishments.aggregate(pipeline))\n",
    "\n",
    "print('\\n\\n'.join(f'{result}' for result in results))\n"
   ]
  },
  {
   "cell_type": "markdown",
   "id": "4e570caf",
   "metadata": {},
   "source": [
    "3. Update the new restaurant with the `BusinessTypeID` you found."
   ]
  },
  {
   "cell_type": "code",
   "execution_count": 183,
   "id": "7f599f3d",
   "metadata": {},
   "outputs": [
    {
     "name": "stdout",
     "output_type": "stream",
     "text": [
      "BusinessTypeID: 1\n"
     ]
    },
    {
     "data": {
      "text/plain": [
       "<pymongo.results.UpdateResult at 0x199c404cd00>"
      ]
     },
     "execution_count": 183,
     "metadata": {},
     "output_type": "execute_result"
    }
   ],
   "source": [
    "# Update the new restaurant with the correct BusinessTypeID\n",
    "\n",
    "query_1 = {'BusinessType': 'Restaurant/Cafe/Canteen'}\n",
    "\n",
    "# Use the find method with the query to retrieve matching documents\n",
    "result_1 = establishments.find_one(query_1)\n",
    "\n",
    "# Extract the 'BusinessTypeID' value if the document exists\n",
    "business_type_id = result_1.get('BusinessTypeID')\n",
    "print(f'BusinessTypeID: {business_type_id}') \n",
    "\n",
    "establishments.update_one({'BusinessName': 'Penang Flavours'},\n",
    "                         {'$set': {'BusinessTypeID': business_type_id}})"
   ]
  },
  {
   "cell_type": "code",
   "execution_count": 184,
   "id": "a6ad16f7",
   "metadata": {},
   "outputs": [
    {
     "name": "stdout",
     "output_type": "stream",
     "text": [
      "{'AddressLine1': 'Penang Flavours',\n",
      " 'AddressLine2': '73 Greenwich High Rd',\n",
      " 'AddressLine3': 'London',\n",
      " 'AddressLine4': '',\n",
      " 'BusinessName': 'Penang Flavours',\n",
      " 'BusinessType': 'Restaurant/Cafe/Canteen',\n",
      " 'BusinessTypeID': 1,\n",
      " 'LocalAuthorityCode': '',\n",
      " 'LocalAuthorityEmailAddress': 'Food.Concerns@royalgreenwich.gov.uk',\n",
      " 'LocalAuthorityName': 'Greenwich',\n",
      " 'LocalAuthorityWebSite': 'www.royalgreenwich.gov.uk',\n",
      " 'Phone': '',\n",
      " 'PostCode': 'SE10 8JL',\n",
      " 'RatingValue': 'Awaiting Inspection',\n",
      " 'SchemeType': 'FHRS',\n",
      " '_id': ObjectId('64f3e29aebbdb9cd87d2fd9c'),\n",
      " 'geocode': {'latitude': '51.49342000', 'longitude': '0.00986400'},\n",
      " 'scores': {'ConfidenceInManagement': '', 'Hygiene': '', 'Structural': ''}}\n"
     ]
    }
   ],
   "source": [
    "# Confirm that the new restaurant was updated\n",
    "pprint(establishments.find_one({'BusinessName': 'Penang Flavours'}))"
   ]
  },
  {
   "cell_type": "markdown",
   "id": "67281254",
   "metadata": {},
   "source": [
    "4. The magazine is not interested in any establishments in Dover, so check how many documents contain the Dover Local Authority. Then, remove any establishments within the Dover Local Authority from the database, and check the number of documents to ensure they were deleted."
   ]
  },
  {
   "cell_type": "code",
   "execution_count": 185,
   "id": "768474a6",
   "metadata": {},
   "outputs": [
    {
     "name": "stdout",
     "output_type": "stream",
     "text": [
      "The number of documents with Local Authority Name : 994\n"
     ]
    }
   ],
   "source": [
    "# Find how many documents have LocalAuthorityName as \"Dover\"\n",
    "\n",
    "query_dover = {'LocalAuthorityName': 'Dover'}\n",
    "count_dover = establishments.count_documents(query_dover)\n",
    "print(f'The number of documents with Local Authority Name : {count_dover}')\n"
   ]
  },
  {
   "cell_type": "code",
   "execution_count": 186,
   "id": "a11d5f1b",
   "metadata": {},
   "outputs": [],
   "source": [
    "# Delete all documents where LocalAuthorityName is \"Dover\"\n",
    "\n",
    "find_dover = {'LocalAuthorityName': 'Dover'}\n",
    "result = establishments.delete_many(find_dover)\n"
   ]
  },
  {
   "cell_type": "code",
   "execution_count": 187,
   "id": "2a51aba0",
   "metadata": {},
   "outputs": [
    {
     "name": "stdout",
     "output_type": "stream",
     "text": [
      "No remaining document includes 'Dover'.\n"
     ]
    }
   ],
   "source": [
    "# Check if any remaining documents include Dover\n",
    "\n",
    "count_dover = establishments.count_documents(query_dover)\n",
    "\n",
    "if count_dover > 0:\n",
    "    f\"The remaining documents include 'Dover'.\"\n",
    "else:\n",
    "    print(f\"No remaining document includes 'Dover'.\")    "
   ]
  },
  {
   "cell_type": "code",
   "execution_count": 188,
   "id": "8c356f7b",
   "metadata": {},
   "outputs": [
    {
     "data": {
      "text/plain": [
       "{'_id': ObjectId('64f3e27c2e66331e7dbfe6b2'),\n",
       " 'FHRSID': 289353,\n",
       " 'ChangesByServerID': 0,\n",
       " 'LocalAuthorityBusinessID': 'PI/000002468',\n",
       " 'BusinessName': 'St Marys COE (aided) Primary School',\n",
       " 'BusinessType': 'School/college/university',\n",
       " 'BusinessTypeID': 7845,\n",
       " 'AddressLine1': 'St Marys Church Of England Primary School',\n",
       " 'AddressLine2': 'Warren Road',\n",
       " 'AddressLine3': 'Folkestone',\n",
       " 'AddressLine4': 'Kent',\n",
       " 'PostCode': 'CT19 6QH',\n",
       " 'Phone': '',\n",
       " 'RatingValue': '5',\n",
       " 'RatingKey': 'fhrs_5_en-gb',\n",
       " 'RatingDate': '2016-09-13T00:00:00',\n",
       " 'LocalAuthorityCode': '188',\n",
       " 'LocalAuthorityName': 'Folkestone and Hythe',\n",
       " 'LocalAuthorityWebSite': 'http://www.folkestone-hythe.gov.uk',\n",
       " 'LocalAuthorityEmailAddress': 'foodteam@folkestone-hythe.gov.uk',\n",
       " 'scores': {'Hygiene': 0, 'Structural': 0, 'ConfidenceInManagement': 0},\n",
       " 'SchemeType': 'FHRS',\n",
       " 'geocode': {'longitude': '1.194762', 'latitude': '51.085797'},\n",
       " 'RightToReply': '',\n",
       " 'Distance': 4591.871474174837,\n",
       " 'NewRatingPending': False,\n",
       " 'meta': {'dataSource': None,\n",
       "  'extractDate': '0001-01-01T00:00:00',\n",
       "  'itemCount': 0,\n",
       "  'returncode': None,\n",
       "  'totalCount': 0,\n",
       "  'totalPages': 0,\n",
       "  'pageSize': 0,\n",
       "  'pageNumber': 0},\n",
       " 'links': [{'rel': 'self',\n",
       "   'href': 'https://api.ratings.food.gov.uk/establishments/289353'}]}"
      ]
     },
     "execution_count": 188,
     "metadata": {},
     "output_type": "execute_result"
    }
   ],
   "source": [
    "# Check that other documents remain with 'find_one'\n",
    "establishments.find_one()"
   ]
  },
  {
   "cell_type": "markdown",
   "id": "e9f1662d",
   "metadata": {},
   "source": [
    "5. Some of the number values are stored as strings, when they should be stored as numbers."
   ]
  },
  {
   "cell_type": "markdown",
   "id": "c46df2df",
   "metadata": {},
   "source": [
    "Use `update_many` to convert `latitude` and `longitude` to decimal numbers."
   ]
  },
  {
   "cell_type": "code",
   "execution_count": 189,
   "id": "17f74ea2-0059-4383-99de-ad110990922c",
   "metadata": {},
   "outputs": [
    {
     "data": {
      "text/plain": [
       "<pymongo.results.UpdateResult at 0x199c4021540>"
      ]
     },
     "execution_count": 189,
     "metadata": {},
     "output_type": "execute_result"
    }
   ],
   "source": [
    "# Change the data type from String to Decimal for longitude and latitude\n",
    "\n",
    "establishments.update_many({}, [{'$set':{ \"geocode.longitude\" : {'$toDouble': \"$geocode.longitude\"}, \n",
    "                                          \"geocode.latitude\" : {'$toDouble': \"$geocode.latitude\"}}}])\n"
   ]
  },
  {
   "cell_type": "code",
   "execution_count": 190,
   "id": "8ffc689f-555e-44dc-8127-6a0ba8169db5",
   "metadata": {},
   "outputs": [
    {
     "name": "stdout",
     "output_type": "stream",
     "text": [
      "{'BusinessName': 'St Marys COE (aided) Primary School', 'geocode': {'longitude': 1.194762, 'latitude': 51.085797}}\n",
      "\n",
      "{'BusinessName': 'The Ship', 'geocode': {'longitude': 1.188537, 'latitude': 51.08084}}\n",
      "\n",
      "{'BusinessName': 'The Ships Galley', 'geocode': {'longitude': 1.188537, 'latitude': 51.08084}}\n",
      "\n",
      "{'BusinessName': 'Folkestone Trawlers Shop', 'geocode': {'longitude': 1.188537, 'latitude': 51.08084}}\n",
      "\n",
      "{'BusinessName': 'Docker', 'geocode': {'longitude': 1.18590330311705, 'latitude': 51.0783519967076}}\n",
      "\n",
      "{'BusinessName': 'Dr Legumes - Harbour Arm', 'geocode': {'longitude': 1.18590330311705, 'latitude': 51.0783519967076}}\n",
      "\n",
      "{'BusinessName': 'Pick Up Pintxos', 'geocode': {'longitude': 1.18590330311705, 'latitude': 51.0783519967076}}\n",
      "\n",
      "{'BusinessName': 'That Burger - Harbour Arm', 'geocode': {'longitude': 1.18590330311705, 'latitude': 51.0783519967076}}\n",
      "\n",
      "{'BusinessName': 'The Club Hut', 'geocode': {'longitude': 1.18590330311705, 'latitude': 51.0783519967076}}\n",
      "\n",
      "{'BusinessName': 'The Tea Caddy', 'geocode': {'longitude': 1.18590330311705, 'latitude': 51.0783519967076}}\n",
      "\n"
     ]
    }
   ],
   "source": [
    "query = {}\n",
    "fields = {'BusinessName': 1, 'geocode.longitude': 1, 'geocode.latitude': 1, '_id': 0}\n",
    "\n",
    "# Capture the results to a variable\n",
    "results = establishments.find(query, fields)\n",
    "\n",
    "print('\\n\\n'.join(f'{results[i]}' for i in range(10)))\n",
    "print()"
   ]
  },
  {
   "cell_type": "markdown",
   "id": "142e319c",
   "metadata": {},
   "source": [
    "Use `update_many` to convert `RatingValue` to integer numbers."
   ]
  },
  {
   "cell_type": "code",
   "execution_count": 191,
   "id": "95eb7c7c-5cde-4f5d-8981-049c43ac05a8",
   "metadata": {},
   "outputs": [
    {
     "data": {
      "text/plain": [
       "{'_id': ObjectId('64f3e27c2e66331e7dbfe6db'),\n",
       " 'FHRSID': 1534966,\n",
       " 'ChangesByServerID': 0,\n",
       " 'LocalAuthorityBusinessID': 'PI/000080027',\n",
       " 'BusinessName': 'Putters!',\n",
       " 'BusinessType': 'Restaurant/Cafe/Canteen',\n",
       " 'BusinessTypeID': 1,\n",
       " 'AddressLine1': 'Folkestone Harbour',\n",
       " 'AddressLine2': 'Harbour Approach Road',\n",
       " 'AddressLine3': 'Folkestone',\n",
       " 'AddressLine4': 'Kent',\n",
       " 'PostCode': '',\n",
       " 'Phone': '',\n",
       " 'RatingValue': 'AwaitingInspection',\n",
       " 'RatingKey': 'fhrs_awaitinginspection_en-gb',\n",
       " 'RatingDate': '1901-01-01T00:00:00',\n",
       " 'LocalAuthorityCode': '188',\n",
       " 'LocalAuthorityName': 'Folkestone and Hythe',\n",
       " 'LocalAuthorityWebSite': 'http://www.folkestone-hythe.gov.uk',\n",
       " 'LocalAuthorityEmailAddress': 'foodteam@folkestone-hythe.gov.uk',\n",
       " 'scores': {'Hygiene': None,\n",
       "  'Structural': None,\n",
       "  'ConfidenceInManagement': None},\n",
       " 'SchemeType': 'FHRS',\n",
       " 'geocode': {'longitude': 1.18590330311705, 'latitude': 51.0783519967076},\n",
       " 'RightToReply': '',\n",
       " 'Distance': 4591.914705329384,\n",
       " 'NewRatingPending': False,\n",
       " 'meta': {'dataSource': None,\n",
       "  'extractDate': '0001-01-01T00:00:00',\n",
       "  'itemCount': 0,\n",
       "  'returncode': None,\n",
       "  'totalCount': 0,\n",
       "  'totalPages': 0,\n",
       "  'pageSize': 0,\n",
       "  'pageNumber': 0},\n",
       " 'links': [{'rel': 'self',\n",
       "   'href': 'https://api.ratings.food.gov.uk/establishments/1534966'}]}"
      ]
     },
     "execution_count": 191,
     "metadata": {},
     "output_type": "execute_result"
    }
   ],
   "source": [
    "# Find one document that does not have a  Rating Value in the range 1-5\n",
    "ratings = ['1', '2', '3', '4', '5']\n",
    "establishments.find_one({\"RatingValue\": {\"$nin\": ratings}})"
   ]
  },
  {
   "cell_type": "code",
   "execution_count": 192,
   "id": "04430a5b",
   "metadata": {},
   "outputs": [
    {
     "data": {
      "text/plain": [
       "<pymongo.results.UpdateResult at 0x199c3fea4c0>"
      ]
     },
     "execution_count": 192,
     "metadata": {},
     "output_type": "execute_result"
    }
   ],
   "source": [
    "# Set non 1-5 Rating Values to Null\n",
    "non_ratings = [\"AwaitingInspection\", \"Awaiting Inspection\", \"AwaitingPublication\", \"Pass\", \"Exempt\"]\n",
    "establishments.update_many({\"RatingValue\": {\"$in\": non_ratings}}, [ {'$set':{ \"RatingValue\" : None}} ])"
   ]
  },
  {
   "cell_type": "code",
   "execution_count": 193,
   "id": "1ae211ca-a3c0-4001-85bd-33d418456791",
   "metadata": {},
   "outputs": [
    {
     "data": {
      "text/plain": [
       "{'_id': ObjectId('64f3e27c2e66331e7dbfe6db'),\n",
       " 'FHRSID': 1534966,\n",
       " 'ChangesByServerID': 0,\n",
       " 'LocalAuthorityBusinessID': 'PI/000080027',\n",
       " 'BusinessName': 'Putters!',\n",
       " 'BusinessType': 'Restaurant/Cafe/Canteen',\n",
       " 'BusinessTypeID': 1,\n",
       " 'AddressLine1': 'Folkestone Harbour',\n",
       " 'AddressLine2': 'Harbour Approach Road',\n",
       " 'AddressLine3': 'Folkestone',\n",
       " 'AddressLine4': 'Kent',\n",
       " 'PostCode': '',\n",
       " 'Phone': '',\n",
       " 'RatingValue': None,\n",
       " 'RatingKey': 'fhrs_awaitinginspection_en-gb',\n",
       " 'RatingDate': '1901-01-01T00:00:00',\n",
       " 'LocalAuthorityCode': '188',\n",
       " 'LocalAuthorityName': 'Folkestone and Hythe',\n",
       " 'LocalAuthorityWebSite': 'http://www.folkestone-hythe.gov.uk',\n",
       " 'LocalAuthorityEmailAddress': 'foodteam@folkestone-hythe.gov.uk',\n",
       " 'scores': {'Hygiene': None,\n",
       "  'Structural': None,\n",
       "  'ConfidenceInManagement': None},\n",
       " 'SchemeType': 'FHRS',\n",
       " 'geocode': {'longitude': 1.18590330311705, 'latitude': 51.0783519967076},\n",
       " 'RightToReply': '',\n",
       " 'Distance': 4591.914705329384,\n",
       " 'NewRatingPending': False,\n",
       " 'meta': {'dataSource': None,\n",
       "  'extractDate': '0001-01-01T00:00:00',\n",
       "  'itemCount': 0,\n",
       "  'returncode': None,\n",
       "  'totalCount': 0,\n",
       "  'totalPages': 0,\n",
       "  'pageSize': 0,\n",
       "  'pageNumber': 0},\n",
       " 'links': [{'rel': 'self',\n",
       "   'href': 'https://api.ratings.food.gov.uk/establishments/1534966'}]}"
      ]
     },
     "execution_count": 193,
     "metadata": {},
     "output_type": "execute_result"
    }
   ],
   "source": [
    "# Again, find one document that does not have a  Rating Value in the range 1-5\n",
    "ratings = ['1', '2', '3', '4', '5']\n",
    "establishments.find_one({\"RatingValue\": {\"$nin\": ratings}})"
   ]
  },
  {
   "cell_type": "code",
   "execution_count": 194,
   "id": "92524ccc",
   "metadata": {},
   "outputs": [
    {
     "data": {
      "text/plain": [
       "<pymongo.results.UpdateResult at 0x199c3718200>"
      ]
     },
     "execution_count": 194,
     "metadata": {},
     "output_type": "execute_result"
    }
   ],
   "source": [
    "# Change the data type from String to Integer for RatingValue\n",
    "\n",
    "ratings = ['1', '2', '3', '4', '5']\n",
    "\n",
    "establishments.update_many({\"RatingValue\": {\"$in\": ratings}}, [ {'$set':{ 'RatingValue' : {'$toInt': \"$RatingValue\"}}} ])"
   ]
  },
  {
   "cell_type": "code",
   "execution_count": 195,
   "id": "0deacaf9",
   "metadata": {},
   "outputs": [
    {
     "name": "stdout",
     "output_type": "stream",
     "text": [
      "{'BusinessName': 'St Marys COE (aided) Primary School', 'RatingValue': 5}\n",
      "\n",
      "{'BusinessName': 'The Ship', 'RatingValue': 5}\n",
      "\n",
      "{'BusinessName': 'The Ships Galley', 'RatingValue': 4}\n",
      "\n",
      "{'BusinessName': 'Folkestone Trawlers Shop', 'RatingValue': 5}\n",
      "\n",
      "{'BusinessName': 'Docker', 'RatingValue': 5}\n",
      "\n",
      "{'BusinessName': 'Dr Legumes - Harbour Arm', 'RatingValue': 4}\n",
      "\n",
      "{'BusinessName': 'Pick Up Pintxos', 'RatingValue': 5}\n",
      "\n",
      "{'BusinessName': 'That Burger - Harbour Arm', 'RatingValue': 5}\n",
      "\n",
      "{'BusinessName': 'The Club Hut', 'RatingValue': 5}\n",
      "\n",
      "{'BusinessName': 'The Tea Caddy', 'RatingValue': 5}\n",
      "\n"
     ]
    }
   ],
   "source": [
    "# Check that the coordinates and rating value are now numbers\n",
    "\n",
    "query = {}\n",
    "fields = {'BusinessName': 1, 'RatingValue': 1, '_id': 0}\n",
    "\n",
    "# Capture the results to a variable\n",
    "results = establishments.find(query, fields)\n",
    "\n",
    "print('\\n\\n'.join(f'{results[i]}' for i in range(10)))\n",
    "print()"
   ]
  },
  {
   "cell_type": "code",
   "execution_count": null,
   "id": "da84604e-fe4e-4283-85e3-e6fd2ad57308",
   "metadata": {},
   "outputs": [],
   "source": []
  }
 ],
 "metadata": {
  "kernelspec": {
   "display_name": "Python 3 (ipykernel)",
   "language": "python",
   "name": "python3"
  },
  "language_info": {
   "codemirror_mode": {
    "name": "ipython",
    "version": 3
   },
   "file_extension": ".py",
   "mimetype": "text/x-python",
   "name": "python",
   "nbconvert_exporter": "python",
   "pygments_lexer": "ipython3",
   "version": "3.11.3"
  }
 },
 "nbformat": 4,
 "nbformat_minor": 5
}
